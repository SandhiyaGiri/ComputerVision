{
  "cells": [
    {
      "cell_type": "code",
      "source": [
        "import cv2\n",
        "import numpy as np\n",
        "import matplotlib.pyplot as plt\n",
        "\n",
        "\n",
        "def create_color_image(color, width=100, height=100):\n",
        "    image = np.zeros((height, width, 3), dtype=np.uint8)\n",
        "    image[:] = color[::-1]\n",
        "    return image\n",
        "\n",
        "\n",
        "brown_shades = [\n",
        "    (150, 75, 0),\n",
        "    (139, 69, 19),\n",
        "    (160, 82, 45),\n",
        "    (210, 105, 30),\n",
        "    (165, 42, 42),\n",
        "    (128, 0, 0),\n",
        "    (101, 67, 33),\n",
        "]\n",
        "\n",
        "fig, axes = plt.subplots(1, len(brown_shades), figsize=(15, 5))\n",
        "for i, color in enumerate(brown_shades):\n",
        "    img = create_color_image(color)\n",
        "    axes[i].imshow(cv2.cvtColor(img, cv2.COLOR_BGR2RGB))\n",
        "    axes[i].axis('off')\n",
        "    axes[i].set_title(f'Shade {i+1}')\n",
        "\n",
        "plt.show()"
      ],
      "metadata": {
        "colab": {
          "base_uri": "https://localhost:8080/",
          "height": 197
        },
        "id": "SR7MEfEjQH7p",
        "outputId": "bb33fd36-ff77-4c53-937a-dea8967a696b"
      },
      "execution_count": 2,
      "outputs": [
        {
          "output_type": "display_data",
          "data": {
            "text/plain": [
              "<Figure size 1500x500 with 7 Axes>"
            ],
            "image/png": "[encoded data removed]"
          },
          "metadata": {}
        }
      ]
    },
    {
      "cell_type": "code",
      "execution_count": null,
      "metadata": {
        "id": "I-2bRe0xuGRQ"
      },
      "outputs": [],
      "source": []
    }
  ],
  "metadata": {
    "kernelspec": {
      "display_name": "Python 3",
      "language": "python",
      "name": "python3"
    },
    "language_info": {
      "codemirror_mode": {
        "name": "ipython",
        "version": 3
      },
      "file_extension": ".py",
      "mimetype": "text/x-python",
      "name": "python",
      "nbconvert_exporter": "python",
      "pygments_lexer": "ipython3",
      "version": "3.10.2"
    },
    "colab": {
      "provenance": []
    }
  },
  "nbformat": 4,
  "nbformat_minor": 0
}
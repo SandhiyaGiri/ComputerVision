{
 "cells": [
  {
   "cell_type": "code",
   "execution_count": 1,
   "id": "6b590fa0-f70c-4492-bd4f-92edb6dcce0c",
   "metadata": {},
   "outputs": [],
   "source": [
    "from PIL import Image\n",
    "import numpy as np\n",
    "import cv2"
   ]
  },
  {
   "cell_type": "code",
   "execution_count": 3,
   "id": "d10d664c-568d-4951-82b5-17dd133c0e68",
   "metadata": {},
   "outputs": [
    {
     "data": {
      "text/plain": [
       "(275, 125)"
      ]
     },
     "execution_count": 3,
     "metadata": {},
     "output_type": "execute_result"
    }
   ],
   "source": [
    "# Correct file paths\n",
    "full_image_path = './Source/full_image.png'\n",
    "block_image_path = './Source/block.png'\n",
    "\n",
    "# Reopen images using PIL\n",
    "full_image_pil = Image.open(full_image_path)\n",
    "block_image_pil = Image.open(block_image_path)\n",
    "\n",
    "# Convert to numpy array for OpenCV processing\n",
    "full_image_cv = np.array(full_image_pil)\n",
    "block_image_cv = np.array(block_image_pil)\n",
    "\n",
    "# Using template matching to find the block in the full image\n",
    "result = cv2.matchTemplate(full_image_cv, block_image_cv, cv2.TM_CCOEFF_NORMED)\n",
    "\n",
    "# Get the location of the highest matching area\n",
    "min_val, max_val, min_loc, max_loc = cv2.minMaxLoc(result)\n",
    "\n",
    "# Return the top-left corner of the matched region\n",
    "max_loc"
   ]
  },
  {
   "cell_type": "code",
   "execution_count": 4,
   "id": "f5394e0f-a825-465b-9edb-79a1c66aa750",
   "metadata": {},
   "outputs": [],
   "source": [
    "f1 = cv2.imread(full_image_path)\n",
    "b1 = cv2.imread(block_image_path)"
   ]
  },
  {
   "cell_type": "code",
   "execution_count": 5,
   "id": "5468fc27-0167-4d40-9835-132b4421d9c6",
   "metadata": {},
   "outputs": [],
   "source": [
    "res1 = cv2.matchTemplate(f1,b1,cv2.TM_CCOEFF_NORMED)\n",
    "min_val, max_val, min_loc, max_loc = cv2.minMaxLoc(res1)"
   ]
  },
  {
   "cell_type": "code",
   "execution_count": 6,
   "id": "57e9e36d-1ff2-4bb6-8ba7-15cad24c6f4f",
   "metadata": {},
   "outputs": [
    {
     "data": {
      "text/plain": [
       "(287, 138)"
      ]
     },
     "execution_count": 6,
     "metadata": {},
     "output_type": "execute_result"
    }
   ],
   "source": [
    "min_loc"
   ]
  },
  {
   "cell_type": "code",
   "execution_count": 7,
   "id": "26776b95-1070-4419-8308-ec007c372722",
   "metadata": {},
   "outputs": [
    {
     "data": {
      "text/plain": [
       "(275, 125)"
      ]
     },
     "execution_count": 7,
     "metadata": {},
     "output_type": "execute_result"
    }
   ],
   "source": [
    "max_loc"
   ]
  },
  {
   "cell_type": "code",
   "execution_count": null,
   "id": "31d19729-8a15-41dc-8277-571874107c13",
   "metadata": {},
   "outputs": [],
   "source": []
  }
 ],
 "metadata": {
  "kernelspec": {
   "display_name": "Python 3 (ipykernel)",
   "language": "python",
   "name": "python3"
  },
  "language_info": {
   "codemirror_mode": {
    "name": "ipython",
    "version": 3
   },
   "file_extension": ".py",
   "mimetype": "text/x-python",
   "name": "python",
   "nbconvert_exporter": "python",
   "pygments_lexer": "ipython3",
   "version": "3.9.5"
  }
 },
 "nbformat": 4,
 "nbformat_minor": 5
}

{
 "cells": [
  {
   "cell_type": "code",
   "execution_count": 1,
   "metadata": {},
   "outputs": [],
   "source": [
    "import cv2\n",
    "import numpy as np\n",
    "import matplotlib.pyplot as plt"
   ]
  },
  {
   "cell_type": "code",
   "execution_count": 2,
   "metadata": {},
   "outputs": [],
   "source": [
    "bgr_values = []\n",
    "hsv_values = []"
   ]
  },
  {
   "cell_type": "code",
   "execution_count": 3,
   "metadata": {},
   "outputs": [],
   "source": [
    "def mouse_display(event,x,y,flags,param):\n",
    "    if event==cv2.EVENT_LBUTTONDBLCLK:  #Works only if the event is left mouse double click\n",
    "        global bgr_values, hsv_values\n",
    "        bgr_color = image[y, x]  \n",
    "        hsv_color = hsv[y, x]    \n",
    "        \n",
    "        print(\"The BGR Values are:\", bgr_color)\n",
    "        bgr_values.append(bgr_color.tolist())  \n",
    "        print(\"The HSV Values are:\", hsv_color)\n",
    "        hsv_values.append(hsv_color.tolist())  "
   ]
  },
  {
   "cell_type": "code",
   "execution_count": 11,
   "metadata": {},
   "outputs": [
    {
     "name": "stdout",
     "output_type": "stream",
     "text": [
      "The BGR Values are: [ 7 19 31]\n",
      "The HSV Values are: [ 15 197  31]\n",
      "The BGR Values are: [ 88  94 107]\n",
      "The HSV Values are: [  9  45 107]\n",
      "The BGR Values are: [24 31 46]\n",
      "The HSV Values are: [ 10 122  46]\n",
      "The BGR Values are: [41 59 70]\n",
      "The HSV Values are: [ 19 106  70]\n",
      "The BGR Values are: [25 27 57]\n",
      "The HSV Values are: [  2 143  57]\n",
      "The BGR Values are: [25 27 57]\n",
      "The HSV Values are: [  2 143  57]\n",
      "The BGR Values are: [25 27 57]\n",
      "The HSV Values are: [  2 143  57]\n",
      "The BGR Values are: [29 37 54]\n",
      "The HSV Values are: [ 10 118  54]\n",
      "The BGR Values are: [29 37 54]\n",
      "The HSV Values are: [ 10 118  54]\n",
      "The BGR Values are: [26 29 43]\n",
      "The HSV Values are: [  5 101  43]\n",
      "The BGR Values are: [64 69 84]\n",
      "The HSV Values are: [ 8 61 84]\n",
      "The BGR Values are: [22 24 34]\n",
      "The HSV Values are: [ 5 90 34]\n",
      "The BGR Values are: [15 18 32]\n",
      "The HSV Values are: [  5 135  32]\n",
      "The BGR Values are: [57 59 77]\n",
      "The HSV Values are: [ 3 66 77]\n",
      "The BGR Values are: [67 68 82]\n",
      "The HSV Values are: [ 2 47 82]\n",
      "The BGR Values are: [32 38 51]\n",
      "The HSV Values are: [ 9 95 51]\n",
      "The BGR Values are: [31 36 51]\n",
      "The HSV Values are: [  8 100  51]\n",
      "The BGR Values are: [20 26 39]\n",
      "The HSV Values are: [  9 124  39]\n",
      "The BGR Values are: [59 60 80]\n",
      "The HSV Values are: [ 1 67 80]\n",
      "The BGR Values are: [57 57 71]\n",
      "The HSV Values are: [ 0 50 71]\n",
      "The BGR Values are: [30 36 47]\n",
      "The HSV Values are: [11 92 47]\n",
      "The BGR Values are: [ 0  9 19]\n",
      "The HSV Values are: [ 14 255  19]\n",
      "The BGR Values are: [11 20 24]\n",
      "The HSV Values are: [ 21 138  24]\n",
      "The BGR Values are: [18 29 43]\n",
      "The HSV Values are: [ 13 148  43]\n",
      "The BGR Values are: [ 0  4 17]\n",
      "The HSV Values are: [  7 255  17]\n",
      "The BGR Values are: [33 39 52]\n",
      "The HSV Values are: [ 9 93 52]\n",
      "The BGR Values are: [36 41 50]\n",
      "The HSV Values are: [11 71 50]\n",
      "The BGR Values are: [45 57 63]\n",
      "The HSV Values are: [20 73 63]\n",
      "The BGR Values are: [40 46 59]\n",
      "The HSV Values are: [ 9 82 59]\n",
      "The BGR Values are: [12 20 27]\n",
      "The HSV Values are: [ 16 142  27]\n",
      "The BGR Values are: [36 45 55]\n",
      "The HSV Values are: [14 88 55]\n",
      "The BGR Values are: [40 44 55]\n",
      "The HSV Values are: [ 8 70 55]\n",
      "The BGR Values are: [28 34 47]\n",
      "The HSV Values are: [  9 103  47]\n",
      "The BGR Values are: [30 41 49]\n",
      "The HSV Values are: [17 99 49]\n",
      "The BGR Values are: [40 49 58]\n",
      "The HSV Values are: [15 79 58]\n",
      "The BGR Values are: [43 56 64]\n",
      "The HSV Values are: [19 84 64]\n",
      "The BGR Values are: [25 39 45]\n",
      "The HSV Values are: [ 21 113  45]\n",
      "The BGR Values are: [37 48 56]\n",
      "The HSV Values are: [17 87 56]\n",
      "The BGR Values are: [28 41 49]\n",
      "The HSV Values are: [ 19 109  49]\n",
      "The BGR Values are: [41 58 61]\n",
      "The HSV Values are: [26 84 61]\n",
      "The BGR Values are: [53 59 66]\n",
      "The HSV Values are: [14 50 66]\n",
      "The BGR Values are: [46 57 61]\n",
      "The HSV Values are: [22 63 61]\n",
      "The BGR Values are: [65 68 82]\n",
      "The HSV Values are: [ 5 53 82]\n",
      "The BGR Values are: [44 58 70]\n",
      "The HSV Values are: [16 95 70]\n",
      "The BGR Values are: [54 57 72]\n",
      "The HSV Values are: [ 5 64 72]\n",
      "The BGR Values are: [167 157 187]\n",
      "The HSV Values are: [170  41 187]\n",
      "The BGR Values are: [79 81 92]\n",
      "The HSV Values are: [ 5 36 92]\n"
     ]
    },
    {
     "data": {
      "text/plain": [
       "-1"
      ]
     },
     "execution_count": 11,
     "metadata": {},
     "output_type": "execute_result"
    }
   ],
   "source": [
    "image_path=r\"D:\\Downloads\\5089427626493324245.jpg\" \n",
    "image=cv2.imread(image_path)\n",
    "hsv=cv2.cvtColor(image,cv2.COLOR_BGR2HSV)\n",
    "cv2.imshow(\"Original\",image)\n",
    "cv2.setMouseCallback(\"Original\",mouse_display)\n",
    "cv2.waitKey(0)"
   ]
  },
  {
   "cell_type": "code",
   "execution_count": 12,
   "metadata": {},
   "outputs": [
    {
     "name": "stdout",
     "output_type": "stream",
     "text": [
      "BGR Min Values: B=0, G=0, R=7\n",
      "BGR Max Values: B=167, G=175, R=187\n",
      "HSV Min Values: H=0, S=36, V=7\n",
      "HSV Max Values: H=179, S=255, V=187\n"
     ]
    }
   ],
   "source": [
    "bgr_array = np.array(bgr_values)\n",
    "hsv_array = np.array(hsv_values)\n",
    "\n",
    "# Min and max values for BGR\n",
    "bgr_min = np.min(bgr_array, axis=0)\n",
    "bgr_max = np.max(bgr_array, axis=0)\n",
    "\n",
    "# Min and max values for HSV\n",
    "hsv_min = np.min(hsv_array, axis=0)\n",
    "hsv_max = np.max(hsv_array, axis=0)\n",
    "\n",
    "print(\"BGR Min Values: B={}, G={}, R={}\".format(bgr_min[0], bgr_min[1], bgr_min[2]))\n",
    "print(\"BGR Max Values: B={}, G={}, R={}\".format(bgr_max[0], bgr_max[1], bgr_max[2]))\n",
    "\n",
    "print(\"HSV Min Values: H={}, S={}, V={}\".format(hsv_min[0], hsv_min[1], hsv_min[2]))\n",
    "print(\"HSV Max Values: H={}, S={}, V={}\".format(hsv_max[0], hsv_max[1], hsv_max[2]))"
   ]
  },
  {
   "cell_type": "code",
   "execution_count": 13,
   "metadata": {},
   "outputs": [],
   "source": [
    "lower_brown = np.array([0,13,14])\n",
    "upper_brown = np.array([178,219,181])\n",
    "# lower_brown = np.array([10, 100, 20])\n",
    "# upper_brown = np.array([20, 255, 200])\n",
    "mask = cv2.inRange(hsv, lower_brown, upper_brown)\n",
    "# Bitwise-AND mask and original image\n",
    "result = cv2.bitwise_and(image,image, mask= mask)\n",
    "\n",
    "# display the mask and masked image\n",
    "cv2.imshow('Mask',mask)\n",
    "cv2.waitKey(0)\n",
    "cv2.imshow('Masked Image',result)\n",
    "cv2.waitKey(0)\n",
    "cv2.destroyAllWindows()"
   ]
  },
  {
   "cell_type": "code",
   "execution_count": 14,
   "metadata": {},
   "outputs": [],
   "source": [
    "# Step 5: Enhance the brown color by increasing saturation and value\n",
    "hsv[mask > 0, 1] = np.clip(hsv[mask > 0, 1] * 1.5, 0, 255)  # Increase saturation\n",
    "hsv[mask > 0, 2] = np.clip(hsv[mask > 0, 2] * 1.2, 0, 255)  # Increase value (brightness)\n",
    "\n",
    "# Step 6: Convert back to BGR color space\n",
    "enhanced_image = cv2.cvtColor(hsv, cv2.COLOR_HSV2BGR)\n",
    "\n",
    "# Display the original and enhanced images\n",
    "#cv2.imshow('Original Image', image)\n",
    "cv2.imshow('Enhanced Image', enhanced_image)"
   ]
  },
  {
   "cell_type": "code",
   "execution_count": null,
   "metadata": {},
   "outputs": [],
   "source": []
  }
 ],
 "metadata": {
  "kernelspec": {
   "display_name": "Python 3 (ipykernel)",
   "language": "python",
   "name": "python3"
  },
  "language_info": {
   "codemirror_mode": {
    "name": "ipython",
    "version": 3
   },
   "file_extension": ".py",
   "mimetype": "text/x-python",
   "name": "python",
   "nbconvert_exporter": "python",
   "pygments_lexer": "ipython3",
   "version": "3.9.5"
  }
 },
 "nbformat": 4,
 "nbformat_minor": 4
}
